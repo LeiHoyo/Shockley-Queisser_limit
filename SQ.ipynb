{
 "cells": [
  {
   "cell_type": "code",
   "execution_count": 1,
   "id": "f15954ca",
   "metadata": {},
   "outputs": [],
   "source": [
    "import pandas as pd\n",
    "import numpy as np\n",
    "from numpy import log\n",
    "import matplotlib.pyplot as plt\n",
    "from scipy.interpolate import interp1d\n",
    "import scipy.integrate as integrate\n",
    "from scipy import optimize"
   ]
  },
  {
   "cell_type": "code",
   "execution_count": 2,
   "id": "0aac31b9",
   "metadata": {},
   "outputs": [],
   "source": [
    "from numericalunits import W, K, nm, m, cm, s, eV, meV, V, mA, c0, hPlanck, kB, e"
   ]
  },
  {
   "cell_type": "code",
   "execution_count": 3,
   "id": "e9399f2b",
   "metadata": {
    "scrolled": true
   },
   "outputs": [],
   "source": [
    "fg1 = pd.read_excel('https://www.nrel.gov/grid/solar-resource/assets/data/astmg173.xls')"
   ]
  },
  {
   "cell_type": "code",
   "execution_count": 4,
   "id": "d3460355",
   "metadata": {
    "scrolled": true
   },
   "outputs": [
    {
     "data": {
      "text/html": [
       "<div>\n",
       "<style scoped>\n",
       "    .dataframe tbody tr th:only-of-type {\n",
       "        vertical-align: middle;\n",
       "    }\n",
       "\n",
       "    .dataframe tbody tr th {\n",
       "        vertical-align: top;\n",
       "    }\n",
       "\n",
       "    .dataframe thead th {\n",
       "        text-align: right;\n",
       "    }\n",
       "</style>\n",
       "<table border=\"1\" class=\"dataframe\">\n",
       "  <thead>\n",
       "    <tr style=\"text-align: right;\">\n",
       "      <th></th>\n",
       "      <th>A</th>\n",
       "      <th>B</th>\n",
       "      <th>C</th>\n",
       "      <th>D</th>\n",
       "    </tr>\n",
       "  </thead>\n",
       "  <tbody>\n",
       "    <tr>\n",
       "      <th>0</th>\n",
       "      <td>Wvlgth nm</td>\n",
       "      <td>Etr W*m-2*nm-1</td>\n",
       "      <td>Global tilt  W*m-2*nm-1</td>\n",
       "      <td>Direct+circumsolar W*m-2*nm-1</td>\n",
       "    </tr>\n",
       "    <tr>\n",
       "      <th>1</th>\n",
       "      <td>280</td>\n",
       "      <td>0.082</td>\n",
       "      <td>0.0</td>\n",
       "      <td>0.0</td>\n",
       "    </tr>\n",
       "    <tr>\n",
       "      <th>2</th>\n",
       "      <td>280.5</td>\n",
       "      <td>0.099</td>\n",
       "      <td>0.0</td>\n",
       "      <td>0.0</td>\n",
       "    </tr>\n",
       "    <tr>\n",
       "      <th>3</th>\n",
       "      <td>281</td>\n",
       "      <td>0.15</td>\n",
       "      <td>0.0</td>\n",
       "      <td>0.0</td>\n",
       "    </tr>\n",
       "    <tr>\n",
       "      <th>4</th>\n",
       "      <td>281.5</td>\n",
       "      <td>0.212</td>\n",
       "      <td>0.0</td>\n",
       "      <td>0.0</td>\n",
       "    </tr>\n",
       "    <tr>\n",
       "      <th>...</th>\n",
       "      <td>...</td>\n",
       "      <td>...</td>\n",
       "      <td>...</td>\n",
       "      <td>...</td>\n",
       "    </tr>\n",
       "    <tr>\n",
       "      <th>1998</th>\n",
       "      <td>3980</td>\n",
       "      <td>0.00884</td>\n",
       "      <td>0.007387</td>\n",
       "      <td>0.007405</td>\n",
       "    </tr>\n",
       "    <tr>\n",
       "      <th>1999</th>\n",
       "      <td>3985</td>\n",
       "      <td>0.0088</td>\n",
       "      <td>0.007433</td>\n",
       "      <td>0.00745</td>\n",
       "    </tr>\n",
       "    <tr>\n",
       "      <th>2000</th>\n",
       "      <td>3990</td>\n",
       "      <td>0.00878</td>\n",
       "      <td>0.007372</td>\n",
       "      <td>0.007389</td>\n",
       "    </tr>\n",
       "    <tr>\n",
       "      <th>2001</th>\n",
       "      <td>3995</td>\n",
       "      <td>0.0087</td>\n",
       "      <td>0.00721</td>\n",
       "      <td>0.007226</td>\n",
       "    </tr>\n",
       "    <tr>\n",
       "      <th>2002</th>\n",
       "      <td>4000</td>\n",
       "      <td>0.00868</td>\n",
       "      <td>0.007104</td>\n",
       "      <td>0.00712</td>\n",
       "    </tr>\n",
       "  </tbody>\n",
       "</table>\n",
       "<p>2003 rows × 4 columns</p>\n",
       "</div>"
      ],
      "text/plain": [
       "              A               B                        C  \\\n",
       "0     Wvlgth nm  Etr W*m-2*nm-1  Global tilt  W*m-2*nm-1   \n",
       "1           280           0.082                      0.0   \n",
       "2         280.5           0.099                      0.0   \n",
       "3           281            0.15                      0.0   \n",
       "4         281.5           0.212                      0.0   \n",
       "...         ...             ...                      ...   \n",
       "1998       3980         0.00884                 0.007387   \n",
       "1999       3985          0.0088                 0.007433   \n",
       "2000       3990         0.00878                 0.007372   \n",
       "2001       3995          0.0087                  0.00721   \n",
       "2002       4000         0.00868                 0.007104   \n",
       "\n",
       "                                  D  \n",
       "0     Direct+circumsolar W*m-2*nm-1  \n",
       "1                               0.0  \n",
       "2                               0.0  \n",
       "3                               0.0  \n",
       "4                               0.0  \n",
       "...                             ...  \n",
       "1998                       0.007405  \n",
       "1999                        0.00745  \n",
       "2000                       0.007389  \n",
       "2001                       0.007226  \n",
       "2002                        0.00712  \n",
       "\n",
       "[2003 rows x 4 columns]"
      ]
     },
     "execution_count": 4,
     "metadata": {},
     "output_type": "execute_result"
    }
   ],
   "source": [
    "fg1.columns = ['A','B','C','D']\n",
    "fg1"
   ]
  },
  {
   "cell_type": "code",
   "execution_count": 5,
   "id": "995e127c",
   "metadata": {
    "scrolled": true
   },
   "outputs": [
    {
     "data": {
      "text/html": [
       "<div>\n",
       "<style scoped>\n",
       "    .dataframe tbody tr th:only-of-type {\n",
       "        vertical-align: middle;\n",
       "    }\n",
       "\n",
       "    .dataframe tbody tr th {\n",
       "        vertical-align: top;\n",
       "    }\n",
       "\n",
       "    .dataframe thead th {\n",
       "        text-align: right;\n",
       "    }\n",
       "</style>\n",
       "<table border=\"1\" class=\"dataframe\">\n",
       "  <thead>\n",
       "    <tr style=\"text-align: right;\">\n",
       "      <th></th>\n",
       "      <th>A</th>\n",
       "      <th>C</th>\n",
       "    </tr>\n",
       "  </thead>\n",
       "  <tbody>\n",
       "    <tr>\n",
       "      <th>1</th>\n",
       "      <td>280</td>\n",
       "      <td>0.0</td>\n",
       "    </tr>\n",
       "    <tr>\n",
       "      <th>2</th>\n",
       "      <td>280.5</td>\n",
       "      <td>0.0</td>\n",
       "    </tr>\n",
       "    <tr>\n",
       "      <th>3</th>\n",
       "      <td>281</td>\n",
       "      <td>0.0</td>\n",
       "    </tr>\n",
       "    <tr>\n",
       "      <th>4</th>\n",
       "      <td>281.5</td>\n",
       "      <td>0.0</td>\n",
       "    </tr>\n",
       "    <tr>\n",
       "      <th>5</th>\n",
       "      <td>282</td>\n",
       "      <td>0.0</td>\n",
       "    </tr>\n",
       "    <tr>\n",
       "      <th>...</th>\n",
       "      <td>...</td>\n",
       "      <td>...</td>\n",
       "    </tr>\n",
       "    <tr>\n",
       "      <th>1998</th>\n",
       "      <td>3980</td>\n",
       "      <td>0.007387</td>\n",
       "    </tr>\n",
       "    <tr>\n",
       "      <th>1999</th>\n",
       "      <td>3985</td>\n",
       "      <td>0.007433</td>\n",
       "    </tr>\n",
       "    <tr>\n",
       "      <th>2000</th>\n",
       "      <td>3990</td>\n",
       "      <td>0.007372</td>\n",
       "    </tr>\n",
       "    <tr>\n",
       "      <th>2001</th>\n",
       "      <td>3995</td>\n",
       "      <td>0.00721</td>\n",
       "    </tr>\n",
       "    <tr>\n",
       "      <th>2002</th>\n",
       "      <td>4000</td>\n",
       "      <td>0.007104</td>\n",
       "    </tr>\n",
       "  </tbody>\n",
       "</table>\n",
       "<p>2002 rows × 2 columns</p>\n",
       "</div>"
      ],
      "text/plain": [
       "          A         C\n",
       "1       280       0.0\n",
       "2     280.5       0.0\n",
       "3       281       0.0\n",
       "4     281.5       0.0\n",
       "5       282       0.0\n",
       "...     ...       ...\n",
       "1998   3980  0.007387\n",
       "1999   3985  0.007433\n",
       "2000   3990  0.007372\n",
       "2001   3995   0.00721\n",
       "2002   4000  0.007104\n",
       "\n",
       "[2002 rows x 2 columns]"
      ]
     },
     "execution_count": 5,
     "metadata": {},
     "output_type": "execute_result"
    }
   ],
   "source": [
    "fg2 = fg1.iloc[1:,[0,2]]\n",
    "fg2"
   ]
  },
  {
   "cell_type": "code",
   "execution_count": 6,
   "id": "da5ac960",
   "metadata": {},
   "outputs": [
    {
     "data": {
      "text/plain": [
       "array([[280, 4.7309e-23],\n",
       "       [280.5, 1.2307e-21],\n",
       "       [281, 5.6895e-21],\n",
       "       ...,\n",
       "       [3990, 0.0073723],\n",
       "       [3995, 0.00721],\n",
       "       [4000, 0.0071043]], dtype=object)"
      ]
     },
     "execution_count": 6,
     "metadata": {},
     "output_type": "execute_result"
    }
   ],
   "source": [
    "AM15 = np.array(fg2)\n",
    "AM15 "
   ]
  },
  {
   "cell_type": "code",
   "execution_count": 7,
   "id": "a8966b4c",
   "metadata": {},
   "outputs": [],
   "source": [
    "a = AM15[0:,0] # nm\n",
    "b = AM15[0:,1] # W / m**2 / nm\n",
    "a = a * nm\n",
    "b = b * W / m**2 / nm"
   ]
  },
  {
   "cell_type": "code",
   "execution_count": 8,
   "id": "961a9ae8",
   "metadata": {},
   "outputs": [],
   "source": [
    "λ_min = 280 * nm\n",
    "λ_max = 4000 * nm\n",
    "E_min = hPlanck * c0 / λ_max\n",
    "E_max = hPlanck * c0 / λ_min"
   ]
  },
  {
   "cell_type": "code",
   "execution_count": 9,
   "id": "12f28b76",
   "metadata": {},
   "outputs": [],
   "source": [
    "AM15_interp = interp1d(a,b) \n",
    "λs = np.linspace(λ_min ,λ_max , num=500) \n",
    "y = np.array([AM15_interp(x) for x in λs]) "
   ]
  },
  {
   "cell_type": "code",
   "execution_count": 10,
   "id": "24e905ab",
   "metadata": {
    "scrolled": true
   },
   "outputs": [
    {
     "data": {
      "image/png": "[encoded data removed]",
      "text/plain": [
       "<Figure size 432x288 with 1 Axes>"
      ]
     },
     "metadata": {},
     "output_type": "display_data"
    }
   ],
   "source": [
    "plt.plot(λs / nm ,y / (W / m**2 / nm) )\n",
    "plt.xlabel(\"Wavelength (nm)\")\n",
    "plt.ylabel(r\"Spectral intensity (W/m^2/nm)\")\n",
    "plt.title(\"Light from the sun\");"
   ]
  },
  {
   "cell_type": "code",
   "execution_count": 11,
   "id": "4a8ea913",
   "metadata": {},
   "outputs": [],
   "source": [
    "def SPhotonsPerTEA(Ephoton): \n",
    "    λ = hPlanck * c0 / Ephoton \n",
    "    return AM15_interp(λ) * (hPlanck * c0 / Ephoton**2) / Ephoton \n",
    "# SPhotonsPerTEA 单位为 光量子数/(m^2*s)/ eV"
   ]
  },
  {
   "cell_type": "code",
   "execution_count": 12,
   "id": "83fe3f73",
   "metadata": {
    "scrolled": true
   },
   "outputs": [
    {
     "data": {
      "text/plain": [
       "999.9327692139021"
      ]
     },
     "execution_count": 12,
     "metadata": {},
     "output_type": "execute_result"
    }
   ],
   "source": [
    "f = lambda E : SPhotonsPerTEA(E) * E #赋予每个光子对应的电子伏特能量\n",
    "solar_constant = integrate.quad (f,E_min,E_max,full_output=1)[0]\n",
    "solar_constant / (W/m**2)\n",
    "#上一步 SPhotonsPerTEA 求出的就是关于E的纵轴函数\n",
    "# AM1.5 * λ / E (而λ= hc/E)  \n",
    "#Solar constant\" is the sun's total irradiance. If I did this right, it should be 1000 watts/meter 2"
   ]
  },
  {
   "cell_type": "code",
   "execution_count": 13,
   "id": "8644de11",
   "metadata": {},
   "outputs": [],
   "source": [
    "def solar_photons_above_gap(Egap):\n",
    "    return integrate.quad(SPhotonsPerTEA, Egap, E_max, full_output=1)[0]"
   ]
  },
  {
   "cell_type": "code",
   "execution_count": 14,
   "id": "f50ab4bb",
   "metadata": {},
   "outputs": [
    {
     "data": {
      "text/plain": [
       "Text(0, 0.5, 'Photons above bandgap(10^21*m^-2*s^-1) ')"
      ]
     },
     "execution_count": 14,
     "metadata": {},
     "output_type": "execute_result"
    },
    {
     "data": {
      "image/png": "[encoded data removed]",
      "text/plain": [
       "<Figure size 432x288 with 1 Axes>"
      ]
     },
     "metadata": {},
     "output_type": "display_data"
    }
   ],
   "source": [
    "Egap_list1 = np.linspace(0.4 * eV, 3 * eV ,num = 100)\n",
    "y2 = np.array([solar_photons_above_gap(x) for x in Egap_list1]) \n",
    "plt.plot(Egap_list1 / eV , y2/ 10**21 / (m**-2 * s**-1))\n",
    "plt.xlabel(\"Bandgap energy(eV) \")\n",
    "plt.ylabel(r\"Photons above bandgap(10^21*m^-2*s^-1) \")"
   ]
  },
  {
   "cell_type": "code",
   "execution_count": 15,
   "id": "e72c398e",
   "metadata": {},
   "outputs": [],
   "source": [
    "Tcell = 300 * K"
   ]
  },
  {
   "cell_type": "code",
   "execution_count": 16,
   "id": "266fe65d",
   "metadata": {},
   "outputs": [],
   "source": [
    "def RR0(Egap):\n",
    "    integrand = lambda E : E**2 / (np.exp(E / (kB * Tcell)) - 1)\n",
    "    integral = integrate.quad(integrand, Egap, E_max, full_output=1)[0]\n",
    "    return ((2 * np.pi) / (c0**2 * hPlanck**3)) * integral"
   ]
  },
  {
   "cell_type": "code",
   "execution_count": 17,
   "id": "3cd43e0c",
   "metadata": {},
   "outputs": [],
   "source": [
    "def current_density(voltage, Egap):\n",
    "    return e * (solar_photons_above_gap(Egap) - RR0(Egap) * np.exp(e * voltage / (kB * Tcell)))"
   ]
  },
  {
   "cell_type": "code",
   "execution_count": 18,
   "id": "dccaffd0",
   "metadata": {},
   "outputs": [],
   "source": [
    "# 定义短路电流\n",
    "def JSC(Egap):\n",
    "    return current_density(0 , Egap)\n",
    "#定义开路电压  与饱和光电流有关\n",
    "# np.log()指代的便是数学中使用的ln函数\n",
    "def VOC(Egap):\n",
    "    return (kB * Tcell / e ) * log(solar_photons_above_gap(Egap) / RR0(Egap)+1)"
   ]
  },
  {
   "cell_type": "code",
   "execution_count": 19,
   "id": "33082775",
   "metadata": {},
   "outputs": [
    {
     "name": "stdout",
     "output_type": "stream",
     "text": [
      "29.213165953769625\n",
      "31.522243332777656\n",
      "32.21804628611975\n"
     ]
    }
   ],
   "source": [
    "z13 = JSC(1.416  * eV) / (mA / cm**2)\n",
    "z12 = JSC(1.433 * eV ) / (mA / cm**2)\n",
    "z11 = JSC(1.493 * eV) / (mA / cm**2)\n",
    "print(z11)\n",
    "print(z12)\n",
    "print(z13)"
   ]
  },
  {
   "cell_type": "code",
   "execution_count": 20,
   "id": "9b0a4c60",
   "metadata": {},
   "outputs": [
    {
     "data": {
      "text/plain": [
       "Text(0.5, 1.0, 'Ideal short-circuit current as a function of bandgap')"
      ]
     },
     "execution_count": 20,
     "metadata": {},
     "output_type": "execute_result"
    },
    {
     "data": {
      "image/png": "[encoded data removed]",
      "text/plain": [
       "<Figure size 432x288 with 1 Axes>"
      ]
     },
     "metadata": {},
     "output_type": "display_data"
    }
   ],
   "source": [
    "Egap_list2 = np.linspace(0.4 * eV , 3 * eV , num = 100)\n",
    "y3 = np.array([JSC(x) for x in Egap_list2 ])\n",
    "plt.plot(Egap_list2 / eV, y3 / (mA / cm**2))\n",
    "plt.xlim(0.4,3)\n",
    "plt.xlabel(\"Bandgap energy (eV)\")\n",
    "plt.ylabel(r\"Ideal short-circuit current (mA/cm^2)\")\n",
    "plt.title(\"Ideal short-circuit current as a function of bandgap\")"
   ]
  },
  {
   "cell_type": "code",
   "execution_count": 21,
   "id": "d6304c0f",
   "metadata": {
    "scrolled": false
   },
   "outputs": [
    {
     "data": {
      "text/plain": [
       "(0.4, 3.0)"
      ]
     },
     "execution_count": 21,
     "metadata": {},
     "output_type": "execute_result"
    },
    {
     "data": {
      "image/png": "[encoded data removed]",
      "text/plain": [
       "<Figure size 432x288 with 1 Axes>"
      ]
     },
     "metadata": {},
     "output_type": "display_data"
    }
   ],
   "source": [
    "Egap_list3 = np.linspace(0.4 * eV, 3 * eV, num=20)\n",
    "VOC_list = np.array([VOC(E) for E in Egap_list3])\n",
    "plt.plot(Egap_list3 / eV , VOC_list / V, color = 'red')\n",
    "plt.plot(np.linspace(0,3) , np.linspace(0,3), '-.')         \n",
    "plt.xlabel(\"Bandgap energy (eV)\")\n",
    "plt.ylabel(\"Ideal open-circuit voltage (V)\")\n",
    "plt.title(\"Ideal open-circuit voltage as a function of bandgap\\n(dashed is bandgap)\")\n",
    "plt.xlim(0.4,3)"
   ]
  },
  {
   "cell_type": "code",
   "execution_count": 24,
   "id": "6815b956",
   "metadata": {},
   "outputs": [],
   "source": [
    "def fmax(func_to_maximize, x0=0):\n",
    "    func_to_minimize = lambda x : -func_to_maximize(x)\n",
    "    return optimize.fmin(func_to_minimize, x0, disp=True)[0]\n",
    "\n",
    "def max_power(Egap):\n",
    "    f = lambda voltage : voltage * current_density(voltage, Egap)\n",
    "    a = fmax(f)\n",
    "    max_power = f(a)\n",
    "    return max_power\n",
    "#  返回的是Parameter that minimizes function.\n",
    "#  要返回最大值fopt\n",
    "#  Value of function at minimum: fopt = func(xopt).\n",
    "\n",
    "def max_efficiency(Egap):\n",
    "    return max_power(Egap) / solar_constant"
   ]
  },
  {
   "cell_type": "code",
   "execution_count": 25,
   "id": "7f0fbe8d",
   "metadata": {},
   "outputs": [
    {
     "name": "stderr",
     "output_type": "stream",
     "text": [
      "/tmp/ipykernel_3004/1611598360.py:2: RuntimeWarning: overflow encountered in exp\n",
      "  return e * (solar_photons_above_gap(Egap) - RR0(Egap) * np.exp(e * voltage / (kB * Tcell)))\n"
     ]
    },
    {
     "name": "stdout",
     "output_type": "stream",
     "text": [
      "Optimization terminated successfully.\n",
      "         Current function value: -0.042853\n",
      "         Iterations: 19\n",
      "         Function evaluations: 38\n"
     ]
    },
    {
     "data": {
      "text/plain": [
       "0.32925572016701504"
      ]
     },
     "execution_count": 25,
     "metadata": {},
     "output_type": "execute_result"
    }
   ],
   "source": [
    "max_efficiency(1.1 * eV)"
   ]
  },
  {
   "cell_type": "code",
   "execution_count": 26,
   "id": "b3ec39b0",
   "metadata": {},
   "outputs": [
    {
     "name": "stderr",
     "output_type": "stream",
     "text": [
      "/tmp/ipykernel_3004/1611598360.py:2: RuntimeWarning: overflow encountered in exp\n",
      "  return e * (solar_photons_above_gap(Egap) - RR0(Egap) * np.exp(e * voltage / (kB * Tcell)))\n"
     ]
    },
    {
     "name": "stdout",
     "output_type": "stream",
     "text": [
      "Optimization terminated successfully.\n",
      "         Current function value: -0.012542\n",
      "         Iterations: 18\n",
      "         Function evaluations: 36\n",
      "Optimization terminated successfully.\n",
      "         Current function value: -0.014361\n",
      "         Iterations: 18\n",
      "         Function evaluations: 36\n",
      "Optimization terminated successfully.\n",
      "         Current function value: -0.015829\n",
      "         Iterations: 18\n",
      "         Function evaluations: 36\n",
      "Optimization terminated successfully.\n",
      "         Current function value: -0.017957\n",
      "         Iterations: 20\n",
      "         Function evaluations: 40\n",
      "Optimization terminated successfully.\n",
      "         Current function value: -0.019661\n",
      "         Iterations: 18\n",
      "         Function evaluations: 36\n",
      "Optimization terminated successfully.\n",
      "         Current function value: -0.021335\n",
      "         Iterations: 19\n",
      "         Function evaluations: 38\n",
      "Optimization terminated successfully.\n",
      "         Current function value: -0.022682\n",
      "         Iterations: 20\n",
      "         Function evaluations: 40\n",
      "Optimization terminated successfully.\n",
      "         Current function value: -0.023852\n",
      "         Iterations: 19\n",
      "         Function evaluations: 38\n",
      "Optimization terminated successfully.\n",
      "         Current function value: -0.025221\n",
      "         Iterations: 20\n",
      "         Function evaluations: 40\n",
      "Optimization terminated successfully.\n",
      "         Current function value: -0.026721\n",
      "         Iterations: 18\n",
      "         Function evaluations: 36\n",
      "Optimization terminated successfully.\n",
      "         Current function value: -0.028472\n",
      "         Iterations: 18\n",
      "         Function evaluations: 36\n",
      "Optimization terminated successfully.\n",
      "         Current function value: -0.030243\n",
      "         Iterations: 18\n",
      "         Function evaluations: 36\n",
      "Optimization terminated successfully.\n",
      "         Current function value: -0.031549\n",
      "         Iterations: 20\n",
      "         Function evaluations: 40\n",
      "Optimization terminated successfully.\n",
      "         Current function value: -0.032285\n",
      "         Iterations: 19\n",
      "         Function evaluations: 38\n",
      "Optimization terminated successfully.\n",
      "         Current function value: -0.033060\n",
      "         Iterations: 20\n",
      "         Function evaluations: 40\n",
      "Optimization terminated successfully.\n",
      "         Current function value: -0.033680\n",
      "         Iterations: 20\n",
      "         Function evaluations: 40\n",
      "Optimization terminated successfully.\n",
      "         Current function value: -0.034173\n",
      "         Iterations: 19\n",
      "         Function evaluations: 38\n",
      "Optimization terminated successfully.\n",
      "         Current function value: -0.035238\n",
      "         Iterations: 19\n",
      "         Function evaluations: 38\n",
      "Optimization terminated successfully.\n",
      "         Current function value: -0.036577\n",
      "         Iterations: 19\n",
      "         Function evaluations: 38\n",
      "Optimization terminated successfully.\n",
      "         Current function value: -0.038211\n",
      "         Iterations: 19\n",
      "         Function evaluations: 38\n",
      "Optimization terminated successfully.\n",
      "         Current function value: -0.039786\n",
      "         Iterations: 20\n",
      "         Function evaluations: 40\n",
      "Optimization terminated successfully.\n",
      "         Current function value: -0.040555\n",
      "         Iterations: 19\n",
      "         Function evaluations: 38\n",
      "Optimization terminated successfully.\n",
      "         Current function value: -0.040824\n",
      "         Iterations: 21\n",
      "         Function evaluations: 42\n",
      "Optimization terminated successfully.\n",
      "         Current function value: -0.041199\n",
      "         Iterations: 20\n",
      "         Function evaluations: 40\n",
      "Optimization terminated successfully.\n",
      "         Current function value: -0.041284\n",
      "         Iterations: 20\n",
      "         Function evaluations: 40\n",
      "Optimization terminated successfully.\n",
      "         Current function value: -0.041515\n",
      "         Iterations: 19\n",
      "         Function evaluations: 38\n",
      "Optimization terminated successfully.\n",
      "         Current function value: -0.042225\n",
      "         Iterations: 19\n",
      "         Function evaluations: 38\n",
      "Optimization terminated successfully.\n",
      "         Current function value: -0.043927\n",
      "         Iterations: 19\n",
      "         Function evaluations: 38\n",
      "Optimization terminated successfully.\n",
      "         Current function value: -0.043756\n",
      "         Iterations: 19\n",
      "         Function evaluations: 38\n",
      "Optimization terminated successfully.\n",
      "         Current function value: -0.043623\n",
      "         Iterations: 18\n",
      "         Function evaluations: 36\n",
      "Optimization terminated successfully.\n",
      "         Current function value: -0.043560\n",
      "         Iterations: 19\n",
      "         Function evaluations: 38\n",
      "Optimization terminated successfully.\n",
      "         Current function value: -0.043315\n",
      "         Iterations: 19\n",
      "         Function evaluations: 38\n",
      "Optimization terminated successfully.\n",
      "         Current function value: -0.042995\n",
      "         Iterations: 19\n",
      "         Function evaluations: 38\n",
      "Optimization terminated successfully.\n",
      "         Current function value: -0.042678\n",
      "         Iterations: 19\n",
      "         Function evaluations: 38\n",
      "Optimization terminated successfully.\n",
      "         Current function value: -0.042954\n",
      "         Iterations: 19\n",
      "         Function evaluations: 38\n",
      "Optimization terminated successfully.\n",
      "         Current function value: -0.043465\n",
      "         Iterations: 19\n",
      "         Function evaluations: 38\n",
      "Optimization terminated successfully.\n",
      "         Current function value: -0.043786\n",
      "         Iterations: 19\n",
      "         Function evaluations: 38\n",
      "Optimization terminated successfully.\n",
      "         Current function value: -0.043583\n",
      "         Iterations: 20\n",
      "         Function evaluations: 40\n",
      "Optimization terminated successfully.\n",
      "         Current function value: -0.043506\n",
      "         Iterations: 20\n",
      "         Function evaluations: 40\n",
      "Optimization terminated successfully.\n",
      "         Current function value: -0.043124\n",
      "         Iterations: 20\n",
      "         Function evaluations: 40\n",
      "Optimization terminated successfully.\n",
      "         Current function value: -0.042611\n",
      "         Iterations: 19\n",
      "         Function evaluations: 38\n",
      "Optimization terminated successfully.\n",
      "         Current function value: -0.042101\n",
      "         Iterations: 20\n",
      "         Function evaluations: 40\n",
      "Optimization terminated successfully.\n",
      "         Current function value: -0.041779\n",
      "         Iterations: 19\n",
      "         Function evaluations: 38\n",
      "Optimization terminated successfully.\n",
      "         Current function value: -0.041368\n",
      "         Iterations: 19\n",
      "         Function evaluations: 38\n",
      "Optimization terminated successfully.\n",
      "         Current function value: -0.040745\n",
      "         Iterations: 18\n",
      "         Function evaluations: 36\n",
      "Optimization terminated successfully.\n",
      "         Current function value: -0.040150\n",
      "         Iterations: 19\n",
      "         Function evaluations: 38\n",
      "Optimization terminated successfully.\n",
      "         Current function value: -0.039570\n",
      "         Iterations: 19\n",
      "         Function evaluations: 38\n",
      "Optimization terminated successfully.\n",
      "         Current function value: -0.039339\n",
      "         Iterations: 19\n",
      "         Function evaluations: 38\n",
      "Optimization terminated successfully.\n",
      "         Current function value: -0.038634\n",
      "         Iterations: 19\n",
      "         Function evaluations: 38\n",
      "Optimization terminated successfully.\n",
      "         Current function value: -0.037962\n",
      "         Iterations: 19\n",
      "         Function evaluations: 38\n",
      "Optimization terminated successfully.\n",
      "         Current function value: -0.036405\n",
      "         Iterations: 17\n",
      "         Function evaluations: 34\n",
      "Optimization terminated successfully.\n",
      "         Current function value: -0.036845\n",
      "         Iterations: 19\n",
      "         Function evaluations: 38\n",
      "Optimization terminated successfully.\n",
      "         Current function value: -0.036166\n",
      "         Iterations: 19\n",
      "         Function evaluations: 38\n",
      "Optimization terminated successfully.\n",
      "         Current function value: -0.035468\n",
      "         Iterations: 20\n",
      "         Function evaluations: 40\n",
      "Optimization terminated successfully.\n",
      "         Current function value: -0.034790\n",
      "         Iterations: 20\n",
      "         Function evaluations: 40\n",
      "Optimization terminated successfully.\n",
      "         Current function value: -0.034064\n",
      "         Iterations: 19\n",
      "         Function evaluations: 38\n",
      "Optimization terminated successfully.\n",
      "         Current function value: -0.033298\n",
      "         Iterations: 19\n",
      "         Function evaluations: 38\n",
      "Optimization terminated successfully.\n",
      "         Current function value: -0.032587\n",
      "         Iterations: 18\n",
      "         Function evaluations: 36\n",
      "Optimization terminated successfully.\n",
      "         Current function value: -0.031083\n",
      "         Iterations: 15\n",
      "         Function evaluations: 30\n",
      "Optimization terminated successfully.\n",
      "         Current function value: -0.031081\n",
      "         Iterations: 17\n",
      "         Function evaluations: 34\n",
      "Optimization terminated successfully.\n",
      "         Current function value: -0.030591\n",
      "         Iterations: 18\n",
      "         Function evaluations: 36\n",
      "Optimization terminated successfully.\n",
      "         Current function value: -0.029628\n",
      "         Iterations: 18\n",
      "         Function evaluations: 36\n",
      "Optimization terminated successfully.\n",
      "         Current function value: -0.028937\n",
      "         Iterations: 18\n",
      "         Function evaluations: 36\n",
      "Optimization terminated successfully.\n",
      "         Current function value: -0.028152\n",
      "         Iterations: 18\n",
      "         Function evaluations: 36\n",
      "Optimization terminated successfully.\n",
      "         Current function value: -0.027446\n",
      "         Iterations: 19\n",
      "         Function evaluations: 38\n",
      "Optimization terminated successfully.\n",
      "         Current function value: -0.026728\n",
      "         Iterations: 18\n",
      "         Function evaluations: 36\n",
      "Optimization terminated successfully.\n",
      "         Current function value: -0.026014\n",
      "         Iterations: 19\n",
      "         Function evaluations: 38\n",
      "Optimization terminated successfully.\n",
      "         Current function value: -0.025264\n",
      "         Iterations: 18\n",
      "         Function evaluations: 36\n",
      "Optimization terminated successfully.\n",
      "         Current function value: -0.024624\n",
      "         Iterations: 19\n",
      "         Function evaluations: 38\n",
      "Optimization terminated successfully.\n",
      "         Current function value: -0.023832\n",
      "         Iterations: 19\n",
      "         Function evaluations: 38\n",
      "Optimization terminated successfully.\n",
      "         Current function value: -0.023144\n",
      "         Iterations: 19\n",
      "         Function evaluations: 38\n",
      "Optimization terminated successfully.\n",
      "         Current function value: -0.022402\n",
      "         Iterations: 19\n",
      "         Function evaluations: 38\n",
      "Optimization terminated successfully.\n",
      "         Current function value: -0.021714\n",
      "         Iterations: 19\n",
      "         Function evaluations: 38\n",
      "Optimization terminated successfully.\n",
      "         Current function value: -0.020991\n",
      "         Iterations: 19\n",
      "         Function evaluations: 38\n",
      "Optimization terminated successfully.\n",
      "         Current function value: -0.020308\n",
      "         Iterations: 19\n",
      "         Function evaluations: 38\n",
      "Optimization terminated successfully.\n",
      "         Current function value: -0.019610\n",
      "         Iterations: 18\n",
      "         Function evaluations: 36\n",
      "Optimization terminated successfully.\n",
      "         Current function value: -0.018978\n",
      "         Iterations: 19\n",
      "         Function evaluations: 38\n",
      "Optimization terminated successfully.\n",
      "         Current function value: -0.018288\n",
      "         Iterations: 18\n",
      "         Function evaluations: 36\n",
      "Optimization terminated successfully.\n",
      "         Current function value: -0.017651\n",
      "         Iterations: 19\n",
      "         Function evaluations: 38\n",
      "Optimization terminated successfully.\n",
      "         Current function value: -0.016948\n",
      "         Iterations: 18\n",
      "         Function evaluations: 36\n",
      "Optimization terminated successfully.\n",
      "         Current function value: -0.016329\n",
      "         Iterations: 20\n",
      "         Function evaluations: 40\n",
      "Optimization terminated successfully.\n",
      "         Current function value: -0.015622\n",
      "         Iterations: 18\n",
      "         Function evaluations: 36\n",
      "Optimization terminated successfully.\n",
      "         Current function value: -0.015049\n",
      "         Iterations: 19\n",
      "         Function evaluations: 38\n",
      "Optimization terminated successfully.\n",
      "         Current function value: -0.014356\n",
      "         Iterations: 18\n",
      "         Function evaluations: 36\n",
      "Optimization terminated successfully.\n",
      "         Current function value: -0.013731\n",
      "         Iterations: 19\n",
      "         Function evaluations: 38\n",
      "Optimization terminated successfully.\n",
      "         Current function value: -0.013051\n",
      "         Iterations: 19\n",
      "         Function evaluations: 38\n",
      "Optimization terminated successfully.\n",
      "         Current function value: -0.012470\n",
      "         Iterations: 19\n",
      "         Function evaluations: 38\n",
      "Optimization terminated successfully.\n",
      "         Current function value: -0.011807\n",
      "         Iterations: 19\n",
      "         Function evaluations: 38\n",
      "Optimization terminated successfully.\n",
      "         Current function value: -0.011227\n",
      "         Iterations: 19\n",
      "         Function evaluations: 38\n",
      "Optimization terminated successfully.\n",
      "         Current function value: -0.010589\n",
      "         Iterations: 18\n",
      "         Function evaluations: 36\n",
      "Optimization terminated successfully.\n",
      "         Current function value: -0.010027\n",
      "         Iterations: 18\n",
      "         Function evaluations: 36\n",
      "Optimization terminated successfully.\n",
      "         Current function value: -0.009438\n",
      "         Iterations: 17\n",
      "         Function evaluations: 34\n",
      "Optimization terminated successfully.\n",
      "         Current function value: -0.008951\n",
      "         Iterations: 18\n",
      "         Function evaluations: 36\n",
      "Optimization terminated successfully.\n",
      "         Current function value: -0.008443\n",
      "         Iterations: 18\n",
      "         Function evaluations: 36\n",
      "Optimization terminated successfully.\n",
      "         Current function value: -0.008034\n",
      "         Iterations: 18\n",
      "         Function evaluations: 36\n",
      "Optimization terminated successfully.\n",
      "         Current function value: -0.007658\n",
      "         Iterations: 18\n",
      "         Function evaluations: 36\n",
      "Optimization terminated successfully.\n",
      "         Current function value: -0.007267\n",
      "         Iterations: 18\n",
      "         Function evaluations: 36\n",
      "Optimization terminated successfully.\n",
      "         Current function value: -0.006834\n",
      "         Iterations: 19\n",
      "         Function evaluations: 38\n",
      "Optimization terminated successfully.\n",
      "         Current function value: -0.006190\n",
      "         Iterations: 16\n",
      "         Function evaluations: 32\n",
      "Optimization terminated successfully.\n",
      "         Current function value: -0.005962\n",
      "         Iterations: 17\n",
      "         Function evaluations: 34\n"
     ]
    },
    {
     "data": {
      "text/plain": [
       "[<matplotlib.lines.Line2D at 0x7f1c008ed400>]"
      ]
     },
     "execution_count": 26,
     "metadata": {},
     "output_type": "execute_result"
    },
    {
     "data": {
      "image/png": "[encoded data removed]",
      "text/plain": [
       "<Figure size 432x288 with 1 Axes>"
      ]
     },
     "metadata": {},
     "output_type": "display_data"
    }
   ],
   "source": [
    "Egap_list4 = np.linspace(0.4 * eV , 3 * eV, num = 100)\n",
    "efficency = np.array([max_efficiency(x) for x in Egap_list4])\n",
    "plt.plot(Egap_list4 / eV , efficency * 100)"
   ]
  },
  {
   "cell_type": "code",
   "execution_count": 26,
   "id": "2481df26",
   "metadata": {},
   "outputs": [],
   "source": [
    "def FF(Egap):\n",
    "    return max_power(Egap) / (JSC(Egap) * VOC(Egap))"
   ]
  },
  {
   "cell_type": "code",
   "execution_count": 30,
   "id": "1b6f751b",
   "metadata": {},
   "outputs": [
    {
     "data": {
      "text/plain": [
       "(0.0, 1.0)"
      ]
     },
     "execution_count": 30,
     "metadata": {},
     "output_type": "execute_result"
    },
    {
     "data": {
      "image/png": "[encoded data removed]",
      "text/plain": [
       "<Figure size 432x288 with 1 Axes>"
      ]
     },
     "metadata": {
      "needs_background": "light"
     },
     "output_type": "display_data"
    }
   ],
   "source": [
    "Egap_list5 = np.linspace(0.4 * eV, 3 * eV, num=30)\n",
    "FF_list = np.array([FF(E) for E in Egap_list5])\n",
    "plt.plot(Egap_list5 / eV , FF_list)\n",
    "plt.xlabel(\"Bandgap energy (eV)\")\n",
    "plt.ylabel(\"Ideal fill factor\")\n",
    "plt.title(\"Ideal fill factor as a function of bandgap\")\n",
    "plt.ylim(0,1)"
   ]
  }
 ],
 "metadata": {
  "kernelspec": {
   "display_name": "base",
   "language": "python",
   "name": "python3"
  },
  "language_info": {
   "codemirror_mode": {
    "name": "ipython",
    "version": 3
   },
   "file_extension": ".py",
   "mimetype": "text/x-python",
   "name": "python",
   "nbconvert_exporter": "python",
   "pygments_lexer": "ipython3",
   "version": "3.9.7"
  }
 },
 "nbformat": 4,
 "nbformat_minor": 5
}
